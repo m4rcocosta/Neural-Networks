{
 "cells": [
  {
   "cell_type": "code",
   "execution_count": null,
   "metadata": {},
   "outputs": [],
   "source": [
    "import torch\n",
    "import torch.nn as nn\n",
    "import torch.nn.functional as F\n",
    "import torch.optim as optim\n",
    "from torch.optim import lr_scheduler\n",
    "from torchvision import datasets, transforms\n",
    "from torch.utils.data import DataLoader\n",
    "import torchvision\n",
    "import numpy as np\n",
    "import json\n",
    "import time\n",
    "import sys\n",
    "import copy\n",
    "\n",
    "from kWTA import models\n",
    "from kWTA import activation\n",
    "from kWTA import attack\n",
    "from kWTA import training\n",
    "from kWTA import utilities\n",
    "from kWTA import densenet\n",
    "from kWTA import resnet\n",
    "from kWTA import wideresnet\n",
    "\n",
    "norm_mean = 0\n",
    "norm_var = 1\n",
    "transform_train = transforms.Compose([\n",
    "    transforms.RandomCrop(32, padding=4),\n",
    "    transforms.RandomHorizontalFlip(),\n",
    "    transforms.ToTensor(),\n",
    "    transforms.Normalize((norm_mean,norm_mean,norm_mean), (norm_var, norm_var, norm_var)),\n",
    "])\n",
    "\n",
    "transform_test = transforms.Compose([\n",
    "    transforms.ToTensor(),\n",
    "    transforms.Normalize((norm_mean,norm_mean,norm_mean), (norm_var, norm_var, norm_var)),\n",
    "])\n",
    "photo_tour_train = datasets.PhotoTour(\"./data\", name='notredame', train=True, download=True, transform=transform_train)\n",
    "photo_tour_test = datasets.PhotoTour(\"./data\", name='notredame', train=False, download=True, transform=transform_test)\n",
    "train_loader = DataLoader(photo_tour_train, batch_size = 64, shuffle=True)\n",
    "test_loader = DataLoader(photo_tour_test, batch_size = 64, shuffle=True)\n"
   ]
  },
  {
   "cell_type": "markdown",
   "metadata": {},
   "source": [
    "## Regular training"
   ]
  },
  {
   "cell_type": "markdown",
   "metadata": {},
   "source": [
    "### ReLU Resnet18"
   ]
  },
  {
   "cell_type": "code",
   "execution_count": null,
   "metadata": {
    "scrolled": true
   },
   "outputs": [],
   "source": [
    "device = torch.device('cuda:0')\n",
    "model = resnet.ResNet18().to(device)\n",
    "opt = optim.SGD(model.parameters(), lr=0.1, momentum=0.9)\n",
    "eps = 0.031\n",
    "for ep in range(80):\n",
    "    if ep == 50:\n",
    "        for param_group in opt.param_groups:\n",
    "                param_group['lr'] = 0.01\n",
    "    train_err, train_loss = training.epoch(train_loader, model, opt, device=device, use_tqdm=True)\n",
    "    test_err, test_loss = training.epoch(test_loader, model, device=device, use_tqdm=True)\n",
    "    adv_err, adv_loss = training.epoch_adversarial(test_loader,\n",
    "        model, attack=attack.pgd_linf_untargeted, device=device, num_iter=20, \n",
    "        use_tqdm=True, epsilon=eps, randomize=True, alpha=0.003, n_test=1000)\n",
    "    print('epoch', ep, 'train err', train_err, 'test err', test_err, 'adv_err', adv_err)\n",
    "    torch.save(model.state_dict(), 'models/resnet18_phototour.pth')"
   ]
  },
  {
   "cell_type": "markdown",
   "metadata": {},
   "source": [
    "### kWTA-0.1 Resnet18"
   ]
  },
  {
   "cell_type": "code",
   "execution_count": null,
   "metadata": {},
   "outputs": [],
   "source": [
    "device = torch.device('cuda:0')\n",
    "model = resnet.SparseResNet18(sparsities=[0.1,0.1,0.1,0.1], sparse_func='vol').to(device)\n",
    "opt = optim.SGD(model.parameters(), lr=0.1, momentum=0.9)\n",
    "eps = 0.031\n",
    "for ep in range(80):\n",
    "    if ep == 50:\n",
    "        for param_group in opt.param_groups:\n",
    "                param_group['lr'] = 0.01\n",
    "    train_err, train_loss = training.epoch(train_loader, model, opt, device=device, use_tqdm=True)\n",
    "    test_err, test_loss = training.epoch(test_loader, model, device=device, use_tqdm=True)\n",
    "    adv_err, adv_loss = training.epoch_adversarial(test_loader,\n",
    "        model, attack=attack.pgd_linf_untargeted, device=device, num_iter=20, \n",
    "        use_tqdm=True, epsilon=eps, randomize=True, alpha=0.003, n_test=1000)\n",
    "    print('epoch', ep, 'train err', train_err, 'test err', test_err, 'adv_err', adv_err)\n",
    "    torch.save(model.state_dict(), 'models/spresnet18_0.1_phototour.pth')"
   ]
  },
  {
   "cell_type": "markdown",
   "metadata": {},
   "source": [
    "### kWTA-0.2 Resnet18"
   ]
  },
  {
   "cell_type": "code",
   "execution_count": null,
   "metadata": {},
   "outputs": [],
   "source": [
    "device = torch.device('cuda:0')\n",
    "model = resnet.SparseResNet18(sparsities=[0.2,0.2,0.2,0.2], sparse_func='vol').to(device)\n",
    "opt = optim.SGD(model.parameters(), lr=0.1, momentum=0.9)\n",
    "eps = 0.031\n",
    "for ep in range(80):\n",
    "    if ep == 50:\n",
    "        for param_group in opt.param_groups:\n",
    "                param_group['lr'] = 0.01\n",
    "    train_err, train_loss = training.epoch(train_loader, model, opt, device=device, use_tqdm=True)\n",
    "    test_err, test_loss = training.epoch(test_loader, model, device=device, use_tqdm=True)\n",
    "    adv_err, adv_loss = training.epoch_adversarial(test_loader,\n",
    "        model, attack=attack.pgd_linf_untargeted, device=device, num_iter=20, \n",
    "        use_tqdm=True, epsilon=eps, randomize=True, alpha=0.003, n_test=1000)\n",
    "    print('epoch', ep, 'train err', train_err, 'test err', test_err, 'adv_err', adv_err)\n",
    "    torch.save(model.state_dict(), 'models/spresnet18_0.2_phototour.pth')"
   ]
  },
  {
   "cell_type": "markdown",
   "metadata": {},
   "source": [
    "## Adv Training"
   ]
  },
  {
   "cell_type": "markdown",
   "metadata": {},
   "source": [
    "### ReLU Resnet18"
   ]
  },
  {
   "cell_type": "code",
   "execution_count": null,
   "metadata": {},
   "outputs": [],
   "source": [
    "device = torch.device('cuda:0')\n",
    "model = resnet.ResNet18().to(device)\n",
    "opt = optim.SGD(model.parameters(), lr=0.1, momentum=0.9)\n",
    "eps = 0.031\n",
    "for ep in range(80):\n",
    "    if ep == 50:\n",
    "        for param_group in opt.param_groups:\n",
    "                param_group['lr'] = 0.01\n",
    "    train_err, train_loss = training.epoch_adversarial(train_loader, model, opt=opt,\n",
    "            attack=attack.pgd_linf_untargeted, device=device, num_iter=10, \n",
    "        use_tqdm=True, epsilon=eps, randomize=True, alpha=0.007)\n",
    "    test_err, test_loss = training.epoch(test_loader, model, device=device, use_tqdm=True)\n",
    "    adv_err, adv_loss = training.epoch_adversarial(test_loader,\n",
    "        model, attack=attack.pgd_linf_untargeted, device=device, num_iter=20, \n",
    "        use_tqdm=True, epsilon=eps, randomize=True, alpha=0.003, n_test=1000)\n",
    "    print('epoch', ep, 'train err', train_err, 'test err', test_err, 'adv_err', adv_err)\n",
    "    torch.save(model.state_dict(), 'models/resnet18_phototour_adv.pth')"
   ]
  },
  {
   "cell_type": "markdown",
   "metadata": {},
   "source": [
    "### kWTA-0.1 Resnet18"
   ]
  },
  {
   "cell_type": "code",
   "execution_count": null,
   "metadata": {},
   "outputs": [],
   "source": [
    "device = torch.device('cuda:0')\n",
    "model = resnet.SparseResNet18(sparsities=[0.1,0.1,0.1,0.1], sparse_func='vol').to(device)\n",
    "opt = optim.SGD(model.parameters(), lr=0.1, momentum=0.9)\n",
    "eps = 0.031\n",
    "for ep in range(80):\n",
    "    if ep == 50:\n",
    "        for param_group in opt.param_groups:\n",
    "                param_group['lr'] = 0.01\n",
    "    train_err, train_loss = training.epoch_adversarial(train_loader, model, opt=opt,\n",
    "            attack=attack.pgd_linf_untargeted, device=device, num_iter=10, \n",
    "        use_tqdm=True, epsilon=eps, randomize=True, alpha=0.007)\n",
    "    test_err, test_loss = training.epoch(test_loader, model, device=device, use_tqdm=True)\n",
    "    adv_err, adv_loss = training.epoch_adversarial(test_loader,\n",
    "        model, attack=attack.pgd_linf_untargeted, device=device, num_iter=20, \n",
    "        use_tqdm=True, epsilon=eps, randomize=True, alpha=0.003, n_test=1000)\n",
    "    print('epoch', ep, 'train err', train_err, 'test err', test_err, 'adv_err', adv_err)\n",
    "    torch.save(model.state_dict(), 'models/spresnet18_0.1_phototour_adv.pth')"
   ]
  },
  {
   "cell_type": "markdown",
   "metadata": {},
   "source": [
    "### kWTA-0.2 Resnet18"
   ]
  },
  {
   "cell_type": "code",
   "execution_count": null,
   "metadata": {},
   "outputs": [],
   "source": [
    "device = torch.device('cuda:0')\n",
    "model = resnet.SparseResNet18(sparsities=[0.2,0.2,0.2,0.2], sparse_func='vol').to(device)\n",
    "opt = optim.SGD(model.parameters(), lr=0.1, momentum=0.9)\n",
    "eps = 0.031\n",
    "for ep in range(80):\n",
    "    if ep == 50:\n",
    "        for param_group in opt.param_groups:\n",
    "                param_group['lr'] = 0.01\n",
    "    train_err, train_loss = training.epoch_adversarial(train_loader, model, opt=opt,\n",
    "            attack=attack.pgd_linf_untargeted, device=device, num_iter=10, \n",
    "        use_tqdm=True, epsilon=eps, randomize=True, alpha=0.007)\n",
    "    test_err, test_loss = training.epoch(test_loader, model, device=device, use_tqdm=True)\n",
    "    adv_err, adv_loss = training.epoch_adversarial(test_loader,\n",
    "        model, attack=attack.pgd_linf_untargeted, device=device, num_iter=20, \n",
    "        use_tqdm=True, epsilon=eps, randomize=True, alpha=0.003, n_test=1000)\n",
    "    print('epoch', ep, 'train err', train_err, 'test err', test_err, 'adv_err', adv_err)\n",
    "    torch.save(model.state_dict(), 'models/spresnet18_0.2_phototour_adv.pth')"
   ]
  },
  {
   "cell_type": "code",
   "execution_count": null,
   "metadata": {},
   "outputs": [],
   "source": []
  },
  {
   "cell_type": "code",
   "execution_count": null,
   "metadata": {},
   "outputs": [],
   "source": []
  }
 ],
 "metadata": {
  "kernelspec": {
   "display_name": "Python 3",
   "language": "python",
   "name": "python3"
  }
 },
 "nbformat": 4,
 "nbformat_minor": 2
}
